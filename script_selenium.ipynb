{
 "cells": [
  {
   "cell_type": "code",
   "execution_count": 1,
   "id": "47a0e9bb-75d4-43f1-ad0e-245b9e7ceac0",
   "metadata": {},
   "outputs": [],
   "source": [
    "# Importamos bibliotecas\n",
    "from selenium import webdriver\n",
    "from selenium.webdriver.chrome.options import Options\n",
    "from selenium.webdriver.common.by import By\n",
    "from selenium.webdriver.common.keys import Keys\n",
    "\n",
    "chrome_options = Options()\n",
    "chrome_options.add_argument('--no-sandbox')\n",
    "chrome_options.add_argument('--disable-dev-shm-usage')\n",
    "\n",
    "driver = webdriver.Chrome('./chromedriver', options=chrome_options)"
   ]
  },
  {
   "cell_type": "code",
   "execution_count": 2,
   "id": "dfe13f14-0ac9-4a34-87e1-34325c6e8808",
   "metadata": {},
   "outputs": [],
   "source": [
    "driver.get(\"http://172.19.0.3:8080/\")"
   ]
  },
  {
   "cell_type": "code",
   "execution_count": null,
   "id": "16d75f27-baff-4f34-8b13-a4d0c66260b8",
   "metadata": {},
   "outputs": [],
   "source": []
  },
  {
   "cell_type": "code",
   "execution_count": 3,
   "id": "694d676a-d796-499e-88fd-c9b5495f0905",
   "metadata": {},
   "outputs": [],
   "source": [
    "#Top Gun: Maverick\n",
    "agregar = driver.find_element(By.ID, \"add-movie\")\n",
    "agregar.click()\n",
    "\n",
    "title = driver.find_element(By.NAME, \"title\")\n",
    "year = driver.find_element(By.NAME, \"year\")\n",
    "director = driver.find_element(By.NAME, \"director\")\n",
    "rating = driver.find_element(By.NAME, \"rating\")\n",
    "review = driver.find_element(By.NAME, \"review\")\n",
    "\n",
    "\n",
    "title.send_keys(\"Top Gun: Maverick\")\n",
    "year.send_keys(\"2022\")\n",
    "director.send_keys(\"Joseph Kosinski\")\n",
    "rating.send_keys(\"7.3/10\")\n",
    "review.send_keys(\"Maverick, quien lleva 30 años de servicio, es ahora instructor de pilotos militares. \" \n",
    "                 + \"Una última misión, un sacrificio final, obliga a este maestro de los cielos a enfrentar las \"\n",
    "                 + \"heridas abiertas del pasado y sus temores más profundos.\")\n",
    "\n",
    "grabar = driver.find_element(By.CLASS_NAME, \"btn-primary\")\n",
    "grabar.click()"
   ]
  },
  {
   "cell_type": "code",
   "execution_count": 4,
   "id": "7114cdee-6524-4def-bea1-b32b19df0865",
   "metadata": {},
   "outputs": [],
   "source": [
    "#El señor de los anillos: la comunidad del anillo \n",
    "agregar = driver.find_element(By.ID, \"add-movie\")\n",
    "agregar.click()\n",
    "\n",
    "title = driver.find_element(By.NAME, \"title\")\n",
    "year = driver.find_element(By.NAME, \"year\")\n",
    "director = driver.find_element(By.NAME, \"director\")\n",
    "rating = driver.find_element(By.NAME, \"rating\")\n",
    "review = driver.find_element(By.NAME, \"review\")\n",
    "\n",
    "\n",
    "title.send_keys(\"El señor de los anillos: la comunidad del anillo \")\n",
    "year.send_keys(\"2001\")\n",
    "director.send_keys(\"Peter Jackson\")\n",
    "rating.send_keys(\"8.8/10\")\n",
    "review.send_keys(\"Frodo Bolsón es un hobbit al que su tío Bilbo hace portador del poderoso Anillo Único, \"\n",
    "                 + \"capaz de otorgar un poder ilimitado al que la posea, con la finalidad de destruirlo. \"\n",
    "                 + \"Sin embargo, fuerzas malignas muy poderosas quieren arrebatárselo.\")\n",
    "\n",
    "grabar = driver.find_element(By.CLASS_NAME, \"btn-primary\")\n",
    "grabar.click()"
   ]
  },
  {
   "cell_type": "code",
   "execution_count": 5,
   "id": "693b5a46-331c-48cf-a023-b8a2782c1dee",
   "metadata": {},
   "outputs": [],
   "source": [
    "import googletrans\n",
    "from googletrans import Translator"
   ]
  },
  {
   "cell_type": "code",
   "execution_count": 6,
   "id": "262ef207-b2d1-46e2-986b-38e70879a334",
   "metadata": {},
   "outputs": [
    {
     "name": "stdout",
     "output_type": "stream",
     "text": [
      "Duna\n"
     ]
    }
   ],
   "source": [
    "translator = Translator()\n",
    "translation = translator.translate(\"Dune\", dest='es')\n",
    "print(translation.text)"
   ]
  },
  {
   "cell_type": "code",
   "execution_count": 7,
   "id": "6d74485f-95e4-4fbe-b066-6b23bc9c7f06",
   "metadata": {},
   "outputs": [],
   "source": [
    "# Traducir Dune\n",
    "dune = driver.find_element(By.XPATH, \"/html/body/div/div[1]/h3/a\")\n",
    "dune.click()\n",
    "review = driver.find_element(By.NAME, \"review\")\n",
    "review_dune=review.get_attribute(\"value\")\n",
    "#print(review_dune)\n",
    "t_dune = translator.translate(review_dune, dest=\"es\")\n",
    "review.clear()\n",
    "review.send_keys(t_dune.text)\n",
    "grabar = driver.find_element(By.CLASS_NAME, \"btn-primary\")\n",
    "grabar.click()"
   ]
  },
  {
   "cell_type": "code",
   "execution_count": 8,
   "id": "6d4d00c1-c78c-481d-a503-467d2fd8a1d6",
   "metadata": {},
   "outputs": [],
   "source": [
    "# Traducir Elvis\n",
    "elvis = driver.find_element(By.XPATH, \"/html/body/div/div[2]/h3/a\")\n",
    "elvis.click()\n",
    "review = driver.find_element(By.NAME, \"review\")\n",
    "review_elvis=review.get_attribute(\"value\")\n",
    "#print(review_dune)\n",
    "t_elvis = translator.translate(review_elvis, dest=\"es\")\n",
    "review.clear()\n",
    "review.send_keys(t_elvis.text)\n",
    "grabar = driver.find_element(By.CLASS_NAME, \"btn-primary\")\n",
    "grabar.click()"
   ]
  },
  {
   "cell_type": "code",
   "execution_count": null,
   "id": "a6045c36-d831-45a1-8bf9-eb5deac5b0a0",
   "metadata": {},
   "outputs": [],
   "source": []
  }
 ],
 "metadata": {
  "kernelspec": {
   "display_name": "Python 3 (ipykernel)",
   "language": "python",
   "name": "python3"
  },
  "language_info": {
   "codemirror_mode": {
    "name": "ipython",
    "version": 3
   },
   "file_extension": ".py",
   "mimetype": "text/x-python",
   "name": "python",
   "nbconvert_exporter": "python",
   "pygments_lexer": "ipython3",
   "version": "3.8.12"
  },
  "widgets": {
   "application/vnd.jupyter.widget-state+json": {
    "state": {},
    "version_major": 2,
    "version_minor": 0
   }
  }
 },
 "nbformat": 4,
 "nbformat_minor": 5
}
